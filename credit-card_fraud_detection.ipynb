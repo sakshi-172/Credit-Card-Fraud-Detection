{
 "cells": [
  {
   "cell_type": "code",
   "execution_count": null,
   "metadata": {
    "colab": {
     "base_uri": "https://localhost:8080/"
    },
    "id": "oACjB8fbzJZR",
    "outputId": "6a6be46a-c816-41ef-f3b9-ee9e1f6d16b4"
   },
   "outputs": [],
   "source": [
    "from google.colab import drive\n",
    "drive.mount(\"/content/drive\")"
   ]
  },
  {
   "cell_type": "code",
   "execution_count": null,
   "metadata": {
    "colab": {
     "base_uri": "https://localhost:8080/",
     "height": 273
    },
    "id": "gh0c08xuzdRJ",
    "outputId": "d007be71-20d1-41b1-ef6e-64af0d9f99bd"
   },
   "outputs": [],
   "source": [
    "import zipfile\n",
    "import pandas as pd\n",
    "\n",
    "zip_path = \"/content/drive/My Drive/ColabData/archive.zip\"\n",
    "\n",
    "with zipfile.ZipFile(zip_path, 'r') as z:\n",
    "    print(\"Files in zip:\", z.namelist())\n",
    "    with z.open('creditcard.csv') as f:\n",
    "        data = pd.read_csv(f)\n",
    "data.head()"
   ]
  },
  {
   "cell_type": "code",
   "execution_count": null,
   "metadata": {
    "colab": {
     "base_uri": "https://localhost:8080/",
     "height": 1000
    },
    "id": "PWqrD8CSz96A",
    "outputId": "56647be7-e3cd-424d-e2a0-239409d8bf46"
   },
   "outputs": [],
   "source": [
    "print(\"Basic Information of the Dataset:\")\n",
    "print(data.info())\n",
    "\n",
    "print(\"\\nDescriptive Statistics:\")\n",
    "print(data.describe())\n",
    "\n",
    "print(\"\\nMissing Values in the Dataset:\")\n",
    "print(data.isnull().sum())\n",
    "\n",
    "print(\"\\nClass Distribution:\")\n",
    "print(data['Class'].value_counts())\n",
    "\n",
    "plt.figure(figsize=(6,4))\n",
    "sns.countplot(x='Class', data=data)\n",
    "plt.title('Class Distribution')\n",
    "plt.show()\n",
    "\n",
    "# Pairplot to visualize rel btwn features\n",
    "sns.pairplot(data.iloc[:, :5].join(data['Class']), hue='Class')  # Adjust column slice as needed\n",
    "plt.show()\n",
    "\n",
    "correlation_matrix = data.corr()\n",
    "print(\"\\nCorrelation Matrix:\")\n",
    "print(correlation_matrix)\n",
    "\n",
    "plt.figure(figsize=(8,6))\n",
    "sns.heatmap(correlation_matrix, annot=True, cmap='coolwarm')\n",
    "plt.title('Correlation Matrix Heatmap')\n",
    "plt.show()\n",
    "\n",
    "plt.figure(figsize=(12,6))\n",
    "plt.subplot(1, 2, 1)\n",
    "sns.boxplot(x=data['V1'])\n",
    "plt.title('Boxplot of V1')\n",
    "\n",
    "plt.subplot(1, 2, 2)\n",
    "sns.boxplot(x=data['V2'])\n",
    "plt.title('Boxplot of V2')\n",
    "plt.show()\n",
    "\n",
    "plt.figure(figsize=(8,6))\n",
    "sns.scatterplot(x='V1', y='V2', hue='Class', data=data)\n",
    "plt.title('Scatterplot of V1 vs V2')\n",
    "plt.show()\n",
    "\n",
    "plt.figure(figsize=(12,6))\n",
    "plt.subplot(1, 2, 1)\n",
    "sns.histplot(data['V1'], kde=True)\n",
    "plt.title('Distribution of V1')\n",
    "\n",
    "plt.subplot(1, 2, 2)\n",
    "sns.histplot(data['V2'], kde=True)\n",
    "plt.title('Distribution of V2')\n",
    "plt.show()\n"
   ]
  },
  {
   "cell_type": "code",
   "execution_count": null,
   "metadata": {
    "colab": {
     "base_uri": "https://localhost:8080/"
    },
    "id": "6igEvbMGx6Of",
    "outputId": "3fa7c7be-376a-40ce-8b64-4205a2711deb"
   },
   "outputs": [],
   "source": [
    "# Data Preprocessing\n",
    "scaler = StandardScaler()\n",
    "data['normalizedAmount'] = scaler.fit_transform(data['Amount'].values.reshape(-1, 1))\n",
    "data = data.drop(['Time', 'Amount'], axis=1)\n",
    "\n",
    "# Handle Imbalance\n",
    "X = data.drop('Class', axis=1)\n",
    "y = data['Class']\n",
    "rus = RandomUnderSampler(random_state=42)\n",
    "X_res, y_res = rus.fit_resample(X, y)\n",
    "\n",
    "resampled_df = pd.concat([pd.DataFrame(X_res, columns=X.columns), pd.Series(y_res, name='Class')], axis=1)\n",
    "\n",
    "# Display a few rows from both Class 0 and Class 1\n",
    "print(\"\\nSample Non-Fraud Transactions (Class 0):\")\n",
    "print(resampled_df[resampled_df['Class'] == 0].head())\n",
    "\n",
    "print(\"\\nSample Fraud Transactions (Class 1):\")\n",
    "print(resampled_df[resampled_df['Class'] == 1].head())"
   ]
  },
  {
   "cell_type": "code",
   "execution_count": null,
   "metadata": {
    "colab": {
     "base_uri": "https://localhost:8080/",
     "height": 896
    },
    "id": "CnCOfvqu00jl",
    "outputId": "5e2ead13-6b04-45e0-d41a-9f6ddfbf6a0a"
   },
   "outputs": [],
   "source": [
    "#Separate fraud and non-fraud trans\n",
    "fraud_df = data[data['Class'] == 1]\n",
    "non_fraud_df = data[data['Class'] == 0]\n",
    "\n",
    "non_fraud_sampled = non_fraud_df.sample(n=len(fraud_df), random_state=42)\n",
    "\n",
    "balanced_df = pd.concat([fraud_df, non_fraud_sampled], axis=0)\n",
    "\n",
    "balanced_df = balanced_df.sample(frac=1, random_state=42).reset_index(drop=True)\n",
    "\n",
    "#Disply class distr\n",
    "plt.figure(figsize=(6, 4))\n",
    "sns.countplot(x='Class', data=balanced_df, palette='Set2')\n",
    "plt.title(\"Balanced Class Distribution\")\n",
    "plt.xlabel(\"Class\")\n",
    "plt.ylabel(\"Count\")\n",
    "plt.xticks([0, 1], [\"Non-Fraud\", \"Fraud\"])\n",
    "plt.show()\n",
    "\n",
    "print(\"Sample rows from the balanced dataset:\")\n",
    "print(balanced_df.head())"
   ]
  },
  {
   "cell_type": "code",
   "execution_count": null,
   "metadata": {
    "colab": {
     "base_uri": "https://localhost:8080/"
    },
    "id": "EpdAjiqihclD",
    "outputId": "3cfc772b-5908-4547-bb97-9652abb4a56d"
   },
   "outputs": [],
   "source": [
    "pip install catboost"
   ]
  },
  {
   "cell_type": "code",
   "execution_count": null,
   "metadata": {
    "colab": {
     "base_uri": "https://localhost:8080/"
    },
    "id": "CtPgOYDDh9Cz",
    "outputId": "6e28a6ec-473f-45f6-b569-347f10d3a9b5"
   },
   "outputs": [],
   "source": [
    "pip install pytorch-tabnet"
   ]
  },
  {
   "cell_type": "code",
   "execution_count": null,
   "metadata": {
    "colab": {
     "base_uri": "https://localhost:8080/",
     "height": 1000
    },
    "id": "GgvRvV1jQvWZ",
    "outputId": "3ecb9966-8322-4003-c6d6-9a8b2d9d2bb6"
   },
   "outputs": [],
   "source": [
    "import pandas as pd\n",
    "import torch\n",
    "import torch.nn as nn\n",
    "import torch.optim as optim\n",
    "from sklearn.ensemble import RandomForestClassifier, IsolationForest\n",
    "from sklearn.linear_model import LogisticRegression\n",
    "from sklearn.metrics import roc_auc_score, classification_report, confusion_matrix\n",
    "from sklearn.model_selection import train_test_split\n",
    "from sklearn.preprocessing import StandardScaler\n",
    "from sklearn.svm import SVC\n",
    "from xgboost import XGBClassifier\n",
    "from catboost import CatBoostClassifier\n",
    "from pytorch_tabnet.tab_model import TabNetClassifier\n",
    "import seaborn as sns\n",
    "import matplotlib.pyplot as plt\n",
    "\n",
    "# Preprocess data\n",
    "X = data.drop(columns=['Class'])\n",
    "y = data['Class']\n",
    "\n",
    "scaler = StandardScaler()\n",
    "X_scaled = scaler.fit_transform(X)\n",
    "X_train_np, X_test_np, y_train_np, y_test_np = train_test_split(X_scaled, y, test_size=0.2, random_state=42, stratify=y)\n",
    "\n",
    "# Convert for PyTorch\n",
    "X_train_tensor = torch.tensor(X_train_np, dtype=torch.float32).unsqueeze(1)\n",
    "X_test_tensor = torch.tensor(X_test_np, dtype=torch.float32).unsqueeze(1)\n",
    "y_train_tensor = torch.tensor(y_train_np.values, dtype=torch.long)\n",
    "y_test_tensor = torch.tensor(y_test_np.values, dtype=torch.long)\n",
    "\n",
    "results = []\n",
    "\n",
    "# --- 1. Sklearn models\n",
    "models = {\n",
    "    \"Logistic Regression\": LogisticRegression(max_iter=1000),\n",
    "    \"Random Forest\": RandomForestClassifier(n_estimators=100, random_state=42),\n",
    "    \"Support Vector Machine\": SVC(probability=True),\n",
    "    \"XGBoost\": XGBClassifier(use_label_encoder=False, eval_metric='logloss')\n",
    "}\n",
    "\n",
    "for name, model in models.items():\n",
    "    model.fit(X_train_np, y_train_np)\n",
    "    y_pred = model.predict(X_test_np)\n",
    "    roc = roc_auc_score(y_test_np, y_pred)\n",
    "    results.append({\"Model\": name, \"ROC-AUC\": roc})\n",
    "    print(f\"\\n{name}\\n\", classification_report(y_test_np, y_pred))\n",
    "    sns.heatmap(confusion_matrix(y_test_np, y_pred), annot=True, fmt=\"d\", cmap=\"Blues\", xticklabels=[\"Not Fraud\", \"Fraud\"], yticklabels=[\"Not Fraud\", \"Fraud\"])\n",
    "    plt.title(f\"Confusion Matrix: {name}\")\n",
    "    plt.xlabel(\"Predicted\")\n",
    "    plt.ylabel(\"Actual\")\n",
    "    plt.show()\n",
    "\n",
    "# --- 2. Isolation Forest\n",
    "iso = IsolationForest(n_estimators=100, contamination=0.0017, random_state=42)\n",
    "iso.fit(X_scaled)\n",
    "y_pred_iso = [1 if x == -1 else 0 for x in iso.predict(X_scaled)]\n",
    "roc_iso = roc_auc_score(y, y_pred_iso)\n",
    "results.append({\"Model\": \"Isolation Forest\", \"ROC-AUC\": roc_iso})\n",
    "print(\"\\nIsolation Forest\\n\", classification_report(y, y_pred_iso))\n",
    "sns.heatmap(confusion_matrix(y, y_pred_iso), annot=True, fmt=\"d\", cmap=\"Oranges\", xticklabels=[\"Not Fraud\", \"Fraud\"], yticklabels=[\"Not Fraud\", \"Fraud\"])\n",
    "plt.title(\"Confusion Matrix: Isolation Forest\")\n",
    "plt.xlabel(\"Predicted\")\n",
    "plt.ylabel(\"Actual\")\n",
    "plt.show()\n",
    "\n",
    "# --- 3. CatBoost Classifier\n",
    "catboost = CatBoostClassifier(verbose=0, random_seed=42)\n",
    "catboost.fit(X_train_np, y_train_np)\n",
    "y_pred_cat = catboost.predict(X_test_np)\n",
    "roc_cat = roc_auc_score(y_test_np, y_pred_cat)\n",
    "results.append({\"Model\": \"CatBoost\", \"ROC-AUC\": roc_cat})\n",
    "print(\"\\nCatBoost Classifier\\n\", classification_report(y_test_np, y_pred_cat))\n",
    "sns.heatmap(confusion_matrix(y_test_np, y_pred_cat), annot=True, fmt=\"d\", cmap=\"Purples\", xticklabels=[\"Not Fraud\", \"Fraud\"], yticklabels=[\"Not Fraud\", \"Fraud\"])\n",
    "plt.title(\"Confusion Matrix: CatBoost\")\n",
    "plt.xlabel(\"Predicted\")\n",
    "plt.ylabel(\"Actual\")\n",
    "plt.show()\n",
    "\n",
    "# --- 4. TabNet Classifier\n",
    "tabnet = TabNetClassifier()\n",
    "tabnet.fit(X_train_np, y_train_np, max_epochs=10, patience=5, batch_size=1024, virtual_batch_size=128)\n",
    "y_pred_tabnet = tabnet.predict(X_test_np)\n",
    "roc_tabnet = roc_auc_score(y_test_np, y_pred_tabnet)\n",
    "results.append({\"Model\": \"TabNet\", \"ROC-AUC\": roc_tabnet})\n",
    "print(\"\\nTabNet\\n\", classification_report(y_test_np, y_pred_tabnet))\n",
    "sns.heatmap(confusion_matrix(y_test_np, y_pred_tabnet), annot=True, fmt=\"d\", cmap=\"Greens\", xticklabels=[\"Not Fraud\", \"Fraud\"], yticklabels=[\"Not Fraud\", \"Fraud\"])\n",
    "plt.title(\"Confusion Matrix: TabNet\")\n",
    "plt.xlabel(\"Predicted\")\n",
    "plt.ylabel(\"Actual\")\n",
    "plt.show()\n",
    "\n",
    "# --- Summary\n",
    "print(\"\\n--- Summary of ROC-AUC Scores ---\")\n",
    "summary_df = pd.DataFrame(results).sort_values(by=\"ROC-AUC\", ascending=False)\n",
    "print(summary_df)"
   ]
  },
  {
   "cell_type": "code",
   "execution_count": null,
   "metadata": {
    "colab": {
     "base_uri": "https://localhost:8080/",
     "height": 559
    },
    "id": "bQh7llw6rPyA",
    "outputId": "226a2a02-7e4e-43b9-ee99-c0c5972d4582"
   },
   "outputs": [],
   "source": [
    "# Visual Comparison of Models\n",
    "results_df = pd.DataFrame(results)\n",
    "results_df = results_df.sort_values(by=\"ROC-AUC\", ascending=False)\n",
    "sns.barplot(x=\"ROC-AUC\", y=\"Model\", data=results_df, palette=\"viridis\")\n",
    "plt.title(\"Model Comparison - ROC-AUC Scores\")\n",
    "plt.xlim(0.5, 1.0)\n",
    "plt.show()"
   ]
  },
  {
   "cell_type": "code",
   "execution_count": null,
   "metadata": {
    "colab": {
     "base_uri": "https://localhost:8080/",
     "height": 594
    },
    "id": "dDOjEAhmD4ie",
    "outputId": "936cd3c3-9730-411e-b6ba-dd7d29024e9e"
   },
   "outputs": [],
   "source": [
    "# Box Plot of ROC-AUC Scores\n",
    "plt.figure(figsize=(8, 5))\n",
    "sns.boxplot(data=results_df, y='ROC-AUC', x='Model', palette='Set2')\n",
    "plt.title('Box Plot of ROC-AUC Scores')\n",
    "plt.xticks(rotation=45)\n",
    "plt.tight_layout()\n",
    "plt.show()"
   ]
  },
  {
   "cell_type": "code",
   "execution_count": null,
   "metadata": {
    "colab": {
     "base_uri": "https://localhost:8080/",
     "height": 718
    },
    "id": "87A2eBPxruOt",
    "outputId": "167de649-5f28-47af-82ca-8e70cb2f6622"
   },
   "outputs": [],
   "source": [
    "from sklearn.metrics import roc_curve\n",
    "from catboost import CatBoostClassifier\n",
    "\n",
    "plt.figure(figsize=(12, 8))\n",
    "\n",
    "# 1. Sklearn Models\n",
    "for name, model in models.items():\n",
    "    if hasattr(model, \"predict_proba\"):\n",
    "        y_scores = model.predict_proba(X_test_np)[:, 1]\n",
    "    else:\n",
    "        y_scores = model.decision_function(X_test_np)\n",
    "    fpr, tpr, _ = roc_curve(y_test_np, y_scores)\n",
    "    plt.plot(fpr, tpr, label=f\"{name} (AUC = {roc_auc_score(y_test_np, model.predict(X_test_np)):.3f})\")\n",
    "\n",
    "# 2. Isolation Forest\n",
    "fpr_iso, tpr_iso, _ = roc_curve(y, y_pred_iso)\n",
    "plt.plot(fpr_iso, tpr_iso, label=f\"Isolation Forest (AUC = {roc_iso:.3f})\")\n",
    "\n",
    "# 3. CatBoost Model\n",
    "catboost_model = CatBoostClassifier(verbose=0, random_state=42)\n",
    "catboost_model.fit(X_train_np, y_train_np)\n",
    "catboost_probs = catboost_model.predict_proba(X_test_np)[:, 1]\n",
    "catboost_pred = catboost_model.predict(X_test_np)\n",
    "roc_catboost = roc_auc_score(y_test_np, catboost_pred)\n",
    "\n",
    "fpr_catboost, tpr_catboost, _ = roc_curve(y_test_np, catboost_probs)\n",
    "plt.plot(fpr_catboost, tpr_catboost, label=f\"CatBoost (AUC = {roc_catboost:.3f})\")\n",
    "\n",
    "# 4. TabNet\n",
    "tabnet_probs = tabnet.predict_proba(X_test_np)[:, 1]\n",
    "fpr_tabnet, tpr_tabnet, _ = roc_curve(y_test_np, tabnet_probs)\n",
    "plt.plot(fpr_tabnet, tpr_tabnet, label=f\"TabNet (AUC = {roc_tabnet:.3f})\")\n",
    "\n",
    "# Final plot adjustments\n",
    "plt.plot([0, 1], [0, 1], 'k--', label=\"Random Guess\")\n",
    "plt.title(\"ROC Curve Comparison for All Models\")\n",
    "plt.xlabel(\"False Positive Rate\")\n",
    "plt.ylabel(\"True Positive Rate\")\n",
    "plt.legend(loc=\"lower right\")\n",
    "plt.grid(True)\n",
    "plt.show()"
   ]
  },
  {
   "cell_type": "code",
   "execution_count": null,
   "metadata": {
    "colab": {
     "base_uri": "https://localhost:8080/",
     "height": 1000
    },
    "id": "KMZ8w51dE34E",
    "outputId": "566c067f-1bc3-4d4a-8914-f5121844a92a"
   },
   "outputs": [],
   "source": [
    "from sklearn.metrics import precision_score, accuracy_score\n",
    "from catboost import CatBoostClassifier\n",
    "\n",
    "results = []\n",
    "\n",
    "# --- 1. Sklearn models\n",
    "models = {\n",
    "    \"Logistic Regression\": LogisticRegression(max_iter=1000),\n",
    "    \"Random Forest\": RandomForestClassifier(n_estimators=100, random_state=42),\n",
    "    \"Support Vector Machine\": SVC(probability=True),\n",
    "    \"XGBoost\": XGBClassifier(use_label_encoder=False, eval_metric='logloss')\n",
    "}\n",
    "\n",
    "# Store evaluation results in a structured format\n",
    "for name, model in models.items():\n",
    "    model.fit(X_train_np, y_train_np)\n",
    "    y_pred = model.predict(X_test_np)\n",
    "    precision = precision_score(y_test_np, y_pred)\n",
    "    accuracy = accuracy_score(y_test_np, y_pred)\n",
    "\n",
    "    results.append({\n",
    "        \"Model\": name,\n",
    "        \"Precision\": precision,\n",
    "        \"Accuracy\": accuracy\n",
    "    })\n",
    "\n",
    "# --- 2. Isolation Forest\n",
    "iso = IsolationForest(n_estimators=100, contamination=0.0017, random_state=42)\n",
    "iso.fit(X_scaled)\n",
    "y_pred_iso = [1 if x == -1 else 0 for x in iso.predict(X_scaled)]\n",
    "precision_iso = precision_score(y, y_pred_iso)\n",
    "accuracy_iso = accuracy_score(y, y_pred_iso)\n",
    "\n",
    "results.append({\n",
    "    \"Model\": \"Isolation Forest\",\n",
    "    \"Precision\": precision_iso,\n",
    "    \"Accuracy\": accuracy_iso\n",
    "})\n",
    "\n",
    "# --- 3. CatBoost Classifier\n",
    "catboost_model = CatBoostClassifier(verbose=0, random_state=42)\n",
    "catboost_model.fit(X_train_np, y_train_np)\n",
    "y_pred_catboost = catboost_model.predict(X_test_np)\n",
    "precision_catboost = precision_score(y_test_np, y_pred_catboost)\n",
    "accuracy_catboost = accuracy_score(y_test_np, y_pred_catboost)\n",
    "\n",
    "results.append({\n",
    "    \"Model\": \"CatBoost\",\n",
    "    \"Precision\": precision_catboost,\n",
    "    \"Accuracy\": accuracy_catboost\n",
    "})\n",
    "\n",
    "# --- 4. TabNet Classifier\n",
    "tabnet = TabNetClassifier()\n",
    "tabnet.fit(X_train_np, y_train_np, max_epochs=10, patience=5, batch_size=1024, virtual_batch_size=128)\n",
    "y_pred_tabnet = tabnet.predict(X_test_np)\n",
    "precision_tabnet = precision_score(y_test_np, y_pred_tabnet)\n",
    "accuracy_tabnet = accuracy_score(y_test_np, y_pred_tabnet)\n",
    "\n",
    "results.append({\n",
    "    \"Model\": \"TabNet\",\n",
    "    \"Precision\": precision_tabnet,\n",
    "    \"Accuracy\": accuracy_tabnet\n",
    "})\n",
    "\n",
    "# --- Final Summary Table\n",
    "summary_df = pd.DataFrame(results).sort_values(by=\"Accuracy\", ascending=False)\n",
    "\n",
    "print(\"\\n--- Precision and Accuracy Summary ---\")\n",
    "print(summary_df)\n",
    "\n",
    "# --- Visualization\n",
    "plt.figure(figsize=(12, 6))\n",
    "summary_df_plot = summary_df.set_index(\"Model\")\n",
    "\n",
    "# Plot Precision and Accuracy\n",
    "summary_df_plot[[\"Precision\", \"Accuracy\"]].plot(kind='bar', figsize=(12, 6))\n",
    "plt.title(\"Model Comparison: Precision vs Accuracy\")\n",
    "plt.ylabel(\"Score\")\n",
    "plt.ylim(0, 1.05)\n",
    "plt.grid(axis='y')\n",
    "plt.xticks(rotation=45, ha='right')\n",
    "plt.tight_layout()\n",
    "plt.show()\n"
   ]
  },
  {
   "cell_type": "code",
   "execution_count": null,
   "metadata": {
    "colab": {
     "base_uri": "https://localhost:8080/",
     "height": 356
    },
    "id": "cRyNoB1MYrXN",
    "outputId": "5366b82c-1657-427a-9d8e-c779a48ce9b8"
   },
   "outputs": [],
   "source": [
    "# Install SHAP\n",
    "!pip install shap\n",
    "\n",
    "import shap\n",
    "shap.initjs()"
   ]
  },
  {
   "cell_type": "code",
   "execution_count": null,
   "metadata": {
    "colab": {
     "base_uri": "https://localhost:8080/"
    },
    "id": "_tZvU3A7YuzQ",
    "outputId": "359a1384-e568-480d-b00f-bce89e40c5fa"
   },
   "outputs": [],
   "source": [
    "from google.colab import drive\n",
    "drive.mount(\"/content/drive\")\n",
    "import zipfile\n",
    "import pandas as pd\n",
    "\n",
    "zip_path = \"/content/drive/My Drive/ColabData/archive.zip\"\n",
    "\n",
    "with zipfile.ZipFile(zip_path, 'r') as z:\n",
    "    print(\"Files in zip:\", z.namelist())\n",
    "    with z.open('creditcard.csv') as f:\n",
    "        data = pd.read_csv(f)"
   ]
  },
  {
   "cell_type": "code",
   "execution_count": null,
   "metadata": {
    "colab": {
     "base_uri": "https://localhost:8080/",
     "height": 253
    },
    "id": "PR0H-uxYY4G-",
    "outputId": "fe964829-0dc4-45e9-8136-3aceeb7424d0"
   },
   "outputs": [],
   "source": [
    "import pandas as pd\n",
    "import numpy as np\n",
    "import shap\n",
    "from xgboost import XGBClassifier\n",
    "from sklearn.model_selection import train_test_split\n",
    "from sklearn.preprocessing import StandardScaler\n",
    "from sklearn.feature_selection import VarianceThreshold\n",
    "import matplotlib.pyplot as plt\n",
    "from sklearn.impute import SimpleImputer\n",
    "# Load and prepare data\n",
    "X = data.drop(columns=['Class'])\n",
    "y = data['Class']\n",
    "\n",
    "# Feature scaling\n",
    "from sklearn.preprocessing import StandardScaler\n",
    "\n",
    "scaler = StandardScaler()\n",
    "X_scaled = scaler.fit_transform(X)\n",
    "# Split dataset\n",
    "X_train_np, X_test_np, y_train_np, y_test_np = train_test_split(\n",
    "    X_scaled, y, test_size=0.2, random_state=42, stratify=y)\n",
    "\n",
    "# Train XGBoost model\n",
    "xgb_model = XGBClassifier(eval_metric='logloss')  # No need for `use_label_encoder`\n",
    "xgb_model.fit(X_train_np, y_train_np)"
   ]
  },
  {
   "cell_type": "code",
   "execution_count": null,
   "metadata": {
    "colab": {
     "base_uri": "https://localhost:8080/",
     "height": 1000
    },
    "id": "-xxUwFH6ZDMR",
    "outputId": "2c876885-cb31-47d9-d6cc-05ff2b0aad31"
   },
   "outputs": [],
   "source": [
    "# Initialize SHAP\n",
    "shap.initjs()\n",
    "\n",
    "# Create SHAP explainer\n",
    "explainer = shap.Explainer(xgb_model, X_train_np)\n",
    "\n",
    "# Get SHAP values\n",
    "shap_values = explainer(X_test_np)\n",
    "\n",
    "# Plot summary\n",
    "shap.summary_plot(shap_values, X_test_np, feature_names=X.columns)\n",
    "\n",
    "shap.plots.bar(shap_values, max_display=10)  # Top 10 features"
   ]
  },
  {
   "cell_type": "code",
   "execution_count": null,
   "metadata": {
    "colab": {
     "base_uri": "https://localhost:8080/"
    },
    "id": "otxYSVtROb30",
    "outputId": "d888a39e-c1d7-43e2-e000-1e94e945b0c5"
   },
   "outputs": [],
   "source": [
    "!pip install ydata-profiling"
   ]
  },
  {
   "cell_type": "code",
   "execution_count": null,
   "metadata": {
    "colab": {
     "base_uri": "https://localhost:8080/",
     "height": 1000,
     "referenced_widgets": [
      "068db351cc6e4a5f856b50efc9e52723",
      "ee378081f5c44bac97c2c27accaca5de",
      "7d47adf28d5648c59e8eda2cc99c9455",
      "6f1604878cbc4bf78d0dd323f5f607d2",
      "0845e121a9dc4670ad5aa7160e69c32e",
      "57759a836c8044f7b6f95c316fc69734",
      "b73918987c294678aa1b690ec21f23ff",
      "c48f17d636d049459f39722d3345fc67",
      "a9ff005c8f6949e69407f767494c1cf9",
      "a1d5d9a9941e484e8f2a5d5c060374b1",
      "f93c3618a0194193bac9e1f98ab5e842",
      "b861f927a0d642ac8e14d749932665fd",
      "3540d90619444409919a05b5b7e94473",
      "d74f5a451e294a21b988cf090099fdf8",
      "2e451c330db24dd0adaf1c21c053fc38",
      "451dc9b9f20448f7b126ca79ba2045a1",
      "af9fe2c805424687844b67502b1259ce",
      "324c2b45877945baa3fea4f828f9b374",
      "4e646ada39f7425faf86dec00e66d0bf",
      "c1c3689113c44e21a26ffdb07ac2a012",
      "65db8aff8c0042ccadec0d92c0367bc2",
      "8c384315ca024fb185f1632e310a109d",
      "a9ec3474d702425ebfddbdef3d8be55a",
      "945d31d1c7bf41e98310b443f6a8182b",
      "85146d173f5b4f2397bcd525e0fb5263",
      "1f2cab1cede544669a9392a54c431d97",
      "f74ff0261fff4bc4aede9f02953ad5b0",
      "fc2ce0c56a46415f9504def556e09d04",
      "d16e8951f61c45febcf292b18b929183",
      "6207dbdbe72f4ba5b0be68aeec4bcb5c",
      "208ed06c1b4543f094805efec8f70821",
      "b49badfcba5942c3959ffaf8dbb433e5",
      "1df35c03e348440e82d080d6ec7633b4",
      "3d259aad03e044a781cd51895d126155",
      "b6a986a122b64b2e94bce0a8f6bbef6a",
      "300c4844f041411c8b099a19da430633",
      "a8f17b54ced347e0b62671df97a100cc",
      "5428630d6d054cf58dbeef1b208f25de",
      "9de7f7cccb3d44d5b216ed3abfe3a599",
      "4c8a87c078804226b3cd979db957cad7",
      "8a2d97c53f4f4fdca36e03cb8f6f9d40",
      "5f205a6a8820435fb00b857b7c4e9f6f",
      "1b6e4f2dc5aa40ada74ac49db19be9d6",
      "b19e7ce11b7a4819a30617e1c7e17563",
      "adc7698566444fa8a0cc66d53684118c",
      "b089bfcce7a94420a5d1374de4cf94bb",
      "28d0b1e47d3841e99c2a25a9be7142d9",
      "04eeb58113424917966b40cc7706fa27",
      "5b0c7a90ecea4e64b0174c1928bd623f",
      "5f7761afe4f541fe94c88eb3130b0a2e",
      "bb4e908ab5574311ab9e492a68c86b29",
      "9e8a5b0ed79d431f9044cf9df3fb2eb8",
      "7564a2f0930b4283bbf4232ab3c1a92a",
      "42614eeed51a4eb6a6abe2381c55f311",
      "f8a7f5651eea489c82180bbdbe52294b",
      "9a1ba17deb174616a7de1b86f2b767e3",
      "b9adee942e654478a14ba67f6af40266",
      "da96b13cfa1243cea4f57bbcd15cdfe4",
      "60406f9b29bb48f9bb84f3ec2a323454",
      "df870d94d7994ba8b7be2f092131bb33",
      "8d6f11fb3da24bd68a315dc52433e665",
      "fb4cd375b85f4f72bbbaf5afd4400a28",
      "baaf302e966541f895af71535a9e57f0",
      "52dcee63bfab42d5b25ad5416062c8cd",
      "b21a3f788cf74d01a5b61afe3e0be576",
      "6449d1ce0eaa4c89b5960f515c1c66a3",
      "f5737dc4013947a4885d36c307713f30",
      "deec787ec1fc4a12b449d4c0362e7e25",
      "65abe00c947a41118b8430266b6092f8",
      "42c17cb9b44f4bf6af593ae7c2af92f1",
      "08c561385bfa4e01a9f1ee744dd1ccd8",
      "378aa30e81c7414c97f98b312e0522da",
      "ae673404966f405d94183b966470e51e",
      "7183e049ba264f9bbea3db0405dc5284",
      "6dcdceb9d21c405c9a73c01f77e13c5f",
      "24bba7195f344903b2122dd17bd3fbec",
      "c1cb40033fc441fdbd6ac45951720f1b"
     ]
    },
    "id": "TOXWuIEUCZPN",
    "outputId": "f6fe97f2-7c42-404b-ddd6-7a0fa8e2414b"
   },
   "outputs": [],
   "source": [
    "from ydata_profiling import ProfileReport\n",
    "import pandas as pd\n",
    "data = pd.DataFrame(data, columns=['y', 'y_prime', 'Class'])\n",
    "data[\"Class\"] = data[\"Class\"].replace([1], 0)\n",
    "data[\"Class\"] = data[\"Class\"].replace([2], 1)\n",
    "\n",
    "profile = ProfileReport(data, title=\"EDA Report for CreditCard Dataset\", explorative=True)\n",
    "profile.to_file(\"EDA_Report.html\")\n",
    "\n",
    "# Create profile report\n",
    "profile = ProfileReport(data, title=\"EDA Report\", explorative=True)\n",
    "profile.to_notebook_iframe()"
   ]
  },
  {
   "cell_type": "code",
   "execution_count": null,
   "metadata": {
    "colab": {
     "base_uri": "https://localhost:8080/",
     "height": 17
    },
    "id": "2Wmjeee5PhK2",
    "outputId": "39f14ff4-7dc4-4ab4-aabd-ad81932b42c6"
   },
   "outputs": [],
   "source": [
    "from google.colab import files\n",
    "files.download(\"EDA_Report.html\")"
   ]
  }
 ],
 "metadata": {
  "colab": {
   "provenance": []
  },
  "kernelspec": {
   "display_name": "Python 3",
   "name": "python3"
  },
  "language_info": {
   "name": "python"
  }
 },
 "nbformat": 4,
 "nbformat_minor": 0
}
